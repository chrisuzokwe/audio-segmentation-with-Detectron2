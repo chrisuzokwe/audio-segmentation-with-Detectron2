{
 "cells": [
  {
   "cell_type": "code",
   "execution_count": 1,
   "metadata": {},
   "outputs": [],
   "source": [
    "import librosa\n",
    "import librosa.display\n",
    "import matplotlib.pyplot as plt\n",
    "import matplotlib.patches as patches\n",
    "import audioread\n",
    "import json\n",
    "import os\n",
    "import itertools\n",
    "import numpy as np\n",
    "from PIL import Image\n",
    "import cv2"
   ]
  },
  {
   "cell_type": "markdown",
   "metadata": {},
   "source": [
    "### Path to Audio"
   ]
  },
  {
   "cell_type": "code",
   "execution_count": 2,
   "metadata": {},
   "outputs": [],
   "source": [
    "# current SALAMI track: 1620\n",
    "\n",
    "# audio path\n",
    "ds_path = '/home/shared/cuzokwe/datasets/FotF/audio'\n",
    "audio_path = '/home/shared/cuzokwe/datasets/SALAMI/audio/1620.wav'\n",
    "out_path = '/home/shared/cuzokwe/datasets/SALAMI/images/1620.png'"
   ]
  },
  {
   "cell_type": "code",
   "execution_count": null,
   "metadata": {},
   "outputs": [],
   "source": []
  },
  {
   "cell_type": "markdown",
   "metadata": {},
   "source": [
    "### Compute SSM - mfcc, chroma, melspectrogram"
   ]
  },
  {
   "cell_type": "code",
   "execution_count": 3,
   "metadata": {},
   "outputs": [],
   "source": [
    "def get_3ssm(audio_path):\n",
    "    \n",
    "    # load audio into np array\n",
    "    y,sr = librosa.load(audio_path)\n",
    "\n",
    "    # compute mfcc features and ssm\n",
    "    hop_length = 1024\n",
    "    mfcc = librosa.feature.mfcc(y=y, sr=sr, hop_length=hop_length)\n",
    "    ssm_mfcc = librosa.segment.recurrence_matrix(mfcc, metric='cosine', mode='affinity')\n",
    "\n",
    "    #compute chroma features and ssm\n",
    "    chroma = librosa.feature.chroma_stft(y=y, sr=sr, hop_length = hop_length)\n",
    "    ssm_chroma = librosa.segment.recurrence_matrix(chroma, metric='cosine', mode='affinity')\n",
    "\n",
    "    #compute mel-spec features and ssm\n",
    "    mel_spec = librosa.feature.melspectrogram(y=y, sr=sr, hop_length = hop_length)\n",
    "    ssm_melspec = librosa.segment.recurrence_matrix(mel_spec, metric ='cosine', mode='affinity')\n",
    "\n",
    "    return ssm_mfcc, ssm_chroma, ssm_melspec"
   ]
  },
  {
   "cell_type": "markdown",
   "metadata": {},
   "source": [
    "### Create image from feature SSMs"
   ]
  },
  {
   "cell_type": "code",
   "execution_count": 4,
   "metadata": {},
   "outputs": [],
   "source": [
    "def ssm_to_png(mfcc, chroma, melspec, out_path):\n",
    "    \n",
    "    rgbArray = np.zeros((mfcc.shape[0],mfcc.shape[1],3), 'uint8')\n",
    "    rgbArray[..., 0] = (mfcc/mfcc.max())*255\n",
    "    rgbArray[..., 1] = (chroma/chroma.max())*255\n",
    "    rgbArray[..., 2] = (melspec/melspec.max())*255\n",
    "    img = Image.fromarray(rgbArray)\n",
    "    img.save(out_path)\n",
    "    \n",
    "    \n",
    "    "
   ]
  },
  {
   "cell_type": "code",
   "execution_count": 29,
   "metadata": {},
   "outputs": [
    {
     "name": "stdout",
     "output_type": "stream",
     "text": [
      "(20, 6775)\n"
     ]
    }
   ],
   "source": [
    "# Compute SSMS and create image from them\n",
    "\n",
    "mfcc, chroma, melspec = get_3ssm(audio_path)\n",
    "ssm_to_png(mfcc,chroma, melspec, out_path)"
   ]
  },
  {
   "cell_type": "markdown",
   "metadata": {},
   "source": [
    "### Get bbox XYWH & polygon values"
   ]
  },
  {
   "cell_type": "code",
   "execution_count": 5,
   "metadata": {
    "scrolled": true
   },
   "outputs": [],
   "source": [
    "def get_bbox(anno_path):\n",
    "    \n",
    "    # open file\n",
    "    with open(anno_path) as a:\n",
    "        data = json.load(a)    \n",
    "\n",
    "    # check through all annotations and count segment labels    \n",
    "    obj_list = []\n",
    "    for annotation in data['annotations']:\n",
    "        chorus, verse, intro, segments = []\n",
    "\n",
    "        for segment in annotation['data']:\n",
    "            if segment['value'] == \"chorus\":\n",
    "                segment.append([label['time'], label[\"duration\"]])\n",
    "            elif segment['value'] == \"verse\":\n",
    "                verse.append([label['time'], label[\"duration\"]])\n",
    "            elif segment['value'] == \"intro\":\n",
    "                intro.append([label['time'], label[\"duration\"]])\n",
    "\n",
    "        segments.append(chorus)\n",
    "        segments.append(verse)\n",
    "        segments.append(intro)\n",
    "\n",
    "        colors = ['r','g','b']\n",
    "        c = 0\n",
    "        for seglabels in segments:\n",
    "            segcombos = itertools.product(seglabels, repeat=2)\n",
    "            \n",
    "            # get the segment combination bounding boxes\n",
    "            for combo in segcombos:\n",
    "                \n",
    "                rect =  patches.Rectangle((combo[0][0], combo[1][0]), combo[0][1], combo[1][1], linewidth=1,edgecolor = colors[c], facecolor = 'none')\n",
    "                bound = rect.get_bbox()\n",
    "                \n",
    "                px = np.arange(bound.x0, bound.x1, 0.5)\n",
    "                py = np.arange(bound.y0, bound.y1, 0.5)\n",
    "\n",
    "                poly = itertools.product(px, py)\n",
    "                \n",
    "                obj = {\n",
    "                    \"bbox\": [bound.x0, bound.y0, bound.x1, bound.y1],\n",
    "                    \"bbox_mode\": BoxMode.XYXY_ABS,\n",
    "                    \"segmentation\": [poly],\n",
    "                    \"category_id\": c,\n",
    "                }\n",
    "                obj_list.append(obj)\n",
    "                \n",
    "            c = c+1\n",
    "    return obj_list"
   ]
  },
  {
   "cell_type": "markdown",
   "metadata": {},
   "source": [
    "### bbox function scratch -- will delete"
   ]
  },
  {
   "cell_type": "code",
   "execution_count": null,
   "metadata": {},
   "outputs": [],
   "source": [
    "\n",
    "\n",
    "anno = '/home/shared/cuzokwe/datasets/SALAMI/references/SALAMI_1620.jams'\n",
    "\n",
    "# open file\n",
    "with open(anno) as a:\n",
    "    data = json.load(a)  \n",
    "        \n",
    "# Check through all annotations and count segment labels    \n",
    "obj_list = []\n",
    "for annotation in data['annotations']:\n",
    "    chorus = []\n",
    "    verse = []\n",
    "    intro = []\n",
    "    overall = []\n",
    "\n",
    "    for label in annotation['data']:\n",
    "        if label['value'] == \"chorus\":\n",
    "            chorus.append([label['time'], label[\"duration\"]])\n",
    "        elif label['value'] == \"verse\":\n",
    "            verse.append([label['time'], label[\"duration\"]])\n",
    "        elif label['value'] == \"intro\":\n",
    "            intro.append([label['time'], label[\"duration\"]])\n",
    "\n",
    "    overall.append(chorus)\n",
    "    overall.append(verse)\n",
    "    overall.append(intro)\n",
    "\n",
    "    colors = ['r','g','b']\n",
    "    c = 0\n",
    "    for timings in overall:\n",
    "        print(*timings)\n",
    "        num_of_time_labels = []\n",
    "        for i in range(len(timings)):\n",
    "            num_of_time_labels.append(i)\n",
    "\n",
    "        time_combos = itertools.product(timings, repeat=2)\n",
    "        #print(*time_combos)\n",
    "        for time in time_combos:\n",
    "        #    print(*time)\n",
    "            r = np.array([r])\n",
    "        \n",
    "            rect =  patches.Rectangle((time[0][0], time[1][0]), time[0][1], time[1][1], linewidth=1,edgecolor = colors[c], facecolor = 'none')\n",
    "            test = rect.get_bbox()\n",
    "            \n",
    "            ll = np.array([test.x0, test.y0])  # lower-left\n",
    "            ur = np.array([test.x1, test.y1])  # upper-right\n",
    "            \n",
    "            xy_pts = r[:,[0,1]]\n",
    "\n",
    "            inidx = np.all(np.logical_and(ll <= xy_pts, xy_pts <= ur), axis=1)\n",
    "            inbox = r[inidx]\n",
    "            \n",
    "        c = c+1\n",
    "        \n",
    "plt.title('Affinity Matrix (mfcc) wth SALAMI boundary lines - Annotation 1')\n",
    "plt.show()"
   ]
  },
  {
   "cell_type": "markdown",
   "metadata": {},
   "source": [
    "## Retrieve JAMS Label Distribution"
   ]
  },
  {
   "cell_type": "code",
   "execution_count": 15,
   "metadata": {
    "scrolled": true
   },
   "outputs": [],
   "source": [
    "annos = '/home/shared/cuzokwe/datasets/SALAMI/references/'\n",
    "audio = '/home/shared/cuzokwe/datasets/SALAMI/audio'\n",
    "label_count_dict = {}\n",
    "# For each ~available~ file in SALAMI dataset\n",
    "# For each data in the annotations, log the count the label (value)\n",
    "\n",
    "# Parse through available audio tags\n",
    "for file in os.listdir(audio):\n",
    "    \n",
    "    anno = annos + \"SALAMI_\" + file.split(\".\")[0] + '.jams'\n",
    "    if os.path.exists(anno):\n",
    "        \n",
    "        # Load our annotation jams file as json\n",
    "        with open(anno) as a:\n",
    "            data = json.load(a)\n",
    "\n",
    "        # Check through all annotations and count segment labels       \n",
    "        for annotation in data['annotations']:\n",
    "            for label in annotation['data']:\n",
    "                if label['value'] in label_count_dict:\n",
    "                    label_count_dict[label['value']] = label_count_dict[label['value']] + 1\n",
    "                else:\n",
    "                    label_count_dict[label['value']] = 1\n",
    "                \n",
    "        #label = json.dumps(data['annotations'][0]['data'][1]['value'])\n",
    "        #xy = json.dumps(data['annotations'][0]['data'][1]['time'])\n",
    "        #wh = json.dumps(data['annotations'][0]['data'][1]['duration'])\n",
    "\n",
    "        #print(label)\n",
    "        #print(xy)\n",
    "        #print(wh)\n",
    "        \n",
    "         #print(json.dumps(data['annotations'][0]['data'][0]['value'], indent = 4, sort_keys=True))"
   ]
  },
  {
   "cell_type": "markdown",
   "metadata": {},
   "source": [
    "### Format Dictionary for Detectron Model"
   ]
  },
  {
   "cell_type": "code",
   "execution_count": null,
   "metadata": {},
   "outputs": [],
   "source": [
    "ds_dir = '/home/shared/cuzokwe/datasets/SALAMI'\n",
    "annos = '/home/shared/cuzokwe/datasets/SALAMI/references/'\n",
    "audio = '/home/shared/cuzokwe/datasets/SALAMI/audio'\n",
    "\n",
    "def get_audio_dicts(ds_dir):\n",
    "    \n",
    "    annos = ds_dir + '/references'\n",
    "\n",
    "    dataset_annos = []\n",
    "    # Parse through available audio tags\n",
    "    for file in os.listdir(audio):\n",
    "\n",
    "        anno = annos + \"/SALAMI_\" + file.split(\".\")[0] + '.jams'\n",
    "        if os.path.exists(anno):\n",
    "            record = {}\n",
    "            \n",
    "            img = ds_dir + \"/images/\"+ file.split(\".\")[0] + '.png'\n",
    "            if os.path.exists(img):\n",
    "                record[\"file_name\"] = img\n",
    "            else:\n",
    "                mfcc, chroma, melspec = get_3ssm(audio)\n",
    "                ssm_to_png(mfcc, chroma, melspec, img)\n",
    "                record[\"file_name\"] = img                \n",
    "            \n",
    "            record[\"image_id\"] = file.split(\".\")[0]\n",
    "            \n",
    "            img = cv2.imread(img)\n",
    "            dimensions = img.shape\n",
    "            record[\"height\"] = dimensions[0]\n",
    "            record[\"width\"] = dimensions[1]\n",
    "        \n",
    "            objs = get_bbox(anno)\n",
    "            record[\"annotations\"] = objs\n",
    "            \n",
    "        dataset_annos.append(record)\n",
    "    return dataset_annos \n",
    "    "
   ]
  }
 ],
 "metadata": {
  "kernelspec": {
   "display_name": "Alphabook",
   "language": "python",
   "name": "venus1"
  },
  "language_info": {
   "codemirror_mode": {
    "name": "ipython",
    "version": 3
   },
   "file_extension": ".py",
   "mimetype": "text/x-python",
   "name": "python",
   "nbconvert_exporter": "python",
   "pygments_lexer": "ipython3",
   "version": "3.6.10"
  }
 },
 "nbformat": 4,
 "nbformat_minor": 2
}
